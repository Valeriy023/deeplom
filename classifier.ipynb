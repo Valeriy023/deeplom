{
 "cells": [
  {
   "cell_type": "code",
   "execution_count": 1,
   "metadata": {},
   "outputs": [],
   "source": [
    "import pandas as pd\n",
    "import numpy as np\n",
    "import matplotlib.pyplot as plt\n",
    "import random\n",
    "from sklearn import tree\n",
    "from sklearn import metrics\n",
    "from joblib import dump, load"
   ]
  },
  {
   "cell_type": "code",
   "execution_count": 2,
   "metadata": {},
   "outputs": [],
   "source": [
    "import warnings\n",
    "warnings.filterwarnings(\"ignore\")"
   ]
  },
  {
   "cell_type": "code",
   "execution_count": 3,
   "metadata": {},
   "outputs": [],
   "source": [
    "#loading\n",
    "df = pd.read_csv('train_sample_final.csv', sep=';', decimal=',')\n",
    "sorted_df = df.sort_values(by=['Класс'], ascending=True)\n",
    "x = sorted_df.copy(deep=True)\n",
    "y = sorted_df.copy(deep=True)\n",
    "y = y['Класс']\n",
    "\n",
    "def sampling(x_full, class_number):\n",
    "    x_sample = x_full.copy(deep=True)\n",
    "    for index in range(0,len(x_sample)):\n",
    "        if (x_sample['Класс'][index] != class_number):\n",
    "            x_sample.drop(index, inplace=True)\n",
    "    return x_sample\n",
    "\n",
    "def choices_for_range(weights_list, begin, mid1, mid2, end):    \n",
    "    flg = random.choices([1,2,3],weights_list)[0]\n",
    "    if (flg == 1):\n",
    "        output = random.randint(begin,mid1-1)\n",
    "    if (flg == 2):\n",
    "        output = random.randint(mid1,mid2)\n",
    "    if (flg == 3):\n",
    "        output = random.randint(mid2+1,end)\n",
    "    return output\n",
    "\n",
    "x_normal = sampling(x, 0)\n",
    "x_alert = sampling(x, 1)\n",
    "x_pat = sampling(x, 2)"
   ]
  },
  {
   "cell_type": "code",
   "execution_count": 4,
   "metadata": {},
   "outputs": [],
   "source": [
    "#normal values generation\n",
    "def NVG(trimester:int, n_samples:int):\n",
    "    new_data = []\n",
    "    for iter in range(n_samples):\n",
    "        sample = []\n",
    "        #боль внизу живота, тошнота, количество рвотных позвывов за день, признаки орви \n",
    "        for zero in range(4):\n",
    "            sample.append(0)\n",
    "        #температура тела, сатурация\n",
    "        sample.append(choices_for_range([1,5,1],362,364,368,369)/10)\n",
    "        sample.append(random.randint(97,99))\n",
    "        #BLD\n",
    "        sample.append(0)\n",
    "        #KET, LEU\n",
    "        for ketleu_iter in range(2):\n",
    "            if (trimester == 1):\n",
    "                sample.append(random.randint(0,1)) \n",
    "            else:\n",
    "                sample.append(0)\n",
    "        #GLU\n",
    "        if (trimester == 0 or trimester == 1):\n",
    "            sample.append(0)\n",
    "        else:\n",
    "            sample.append(random.choices([0,1],[5,1])[0])\n",
    "        #NIT\n",
    "        sample.append(0) \n",
    "        #URO, BIL, VC\n",
    "        sample.append(random.randint(0,1))\n",
    "        for bilvc_iter in range(2):\n",
    "            sample.append(0)\n",
    "        #PRO\n",
    "        if (trimester == 1):\n",
    "            sample.append(0)\n",
    "        else:\n",
    "            sample.append(random.randint(0,1))\n",
    "        #PH\n",
    "        sample.append(random.randint(5,7))\n",
    "        #SG\n",
    "        sample.append(random.randint(1010,1035)/1000)\n",
    "        #АД верхнее\n",
    "        sample.append(random.randint(100, 130))\n",
    "        #АД нижнее\n",
    "        sample.append(random.randint(60, 90))\n",
    "        #Пульс\n",
    "        if (trimester == 1):\n",
    "            sample.append(random.randint(60,80))\n",
    "        if (trimester == 2):\n",
    "            sample.append(random.randint(70,90))\n",
    "        if (trimester == 3):\n",
    "            sample.append(random.randint(70,100))\n",
    "        #Глюкоза\n",
    "        sample.append(random.randint(40,55)/10)\n",
    "        new_data.append(sample)\n",
    "    new_df = pd.DataFrame(new_data, columns=['Боль_внизу_живота','Тошнота','Количество_рвотных_позывов_за_день', 'Признаки_ОРВИ','Температура_тела', 'Сатурация','BLD','KET','LEU','GLU','NIT','URO','BIL','VC','PRO','PH','SG','Артериальное_давление_верхнее','Артериальное_давление_нижнее', 'Пульс', 'Глюкоза'])\n",
    "    return new_df\n",
    "norm_sample1 = NVG(1,1000)"
   ]
  },
  {
   "cell_type": "code",
   "execution_count": 5,
   "metadata": {},
   "outputs": [],
   "source": [
    "#alert values generation\n",
    "def AVG(trimester:int, n_samples:int):\n",
    "    new_data = []\n",
    "    for iter in range(n_samples):\n",
    "        sample = []\n",
    "        #боль внизу живота \n",
    "        sample.append(0)\n",
    "        #тошнота\n",
    "        if (trimester == 1 or trimester == 2):\n",
    "            sample.append(random.randint(0,1))\n",
    "        else:\n",
    "            sample.append(0)\n",
    "        #количество рвотных позывов за день\n",
    "        if (sample[1] == 1):\n",
    "            if (trimester == 1):\n",
    "                sample.append(random.randint(1,5))\n",
    "            if (trimester == 2):\n",
    "                sample.append(random.randint(1,3))\n",
    "        else:\n",
    "            sample.append(0)\n",
    "        #признаки орви\n",
    "        sample.append(0)\n",
    "        #температура тела, сатурация\n",
    "        sample.append(choices_for_range([1,5,1],359,362,369,372)/10)\n",
    "        sample.append(choices_for_range([1,2,7],92,95,96,99))\n",
    "        #BLD\n",
    "        sample.append(random.randint(0,1))\n",
    "        #KET\n",
    "        sample.append(random.randint(0,1))\n",
    "        #LEU\n",
    "        if (trimester == 1):\n",
    "            sample.append(random.choices([0,1,2],[3,3,1])[0])\n",
    "        else:\n",
    "            sample.append(random.randint(0,1))\n",
    "        #GLU\n",
    "        if (trimester == 0 or trimester == 1):\n",
    "            sample.append(0)\n",
    "        else:\n",
    "            sample.append(random.choices([0,1],[3,1])[0])\n",
    "        #NIT\n",
    "        sample.append(random.choices([0,1],[3,1])[0]) \n",
    "        #URO, BIL, VC\n",
    "        sample.append(random.randint(0,2))\n",
    "        for bilvc_iter in range(2):\n",
    "            sample.append(random.choices([0,1],[3,1])[0])\n",
    "        #PRO\n",
    "        if (trimester == 1):\n",
    "            sample.append(random.randint(0,1))\n",
    "        else:\n",
    "            sample.append(random.randint(0,2))\n",
    "        #PH\n",
    "        sample.append(random.choices([5,6,7,8],[5,5,5,1])[0])\n",
    "        #SG\n",
    "        sample.append(random.randint(1003,1035)/1000)\n",
    "        #АД верхнее\n",
    "        sample.append(choices_for_range([1,5,1],95,100,130,159))\n",
    "        #АД нижнее\n",
    "        if (sample[17] < 100):\n",
    "            sample.append(random.randint(55, 70))\n",
    "        else:\n",
    "            sample.append(random.randint(55,100))\n",
    "        #Пульс\n",
    "        if (trimester == 1):\n",
    "            sample.append(choices_for_range([1,5,1],50,60,80,90))\n",
    "        if (trimester == 2):\n",
    "            sample.append(choices_for_range([1,5,1],60,70,90,100))\n",
    "        if (trimester == 3):\n",
    "            sample.append(choices_for_range([1,5,1],60,70,100,110))\n",
    "        #Глюкоза\n",
    "        sample.append(choices_for_range([1,5,1],36,40,55,58)/10)\n",
    "        if (sample[-1] > 5.5 or sample[13] > 1): #корректировка значения PH по VC и глюкозе крови\n",
    "            sample[15] = random.randint(4,5)\n",
    "        new_data.append(sample)\n",
    "    new_df = pd.DataFrame(new_data, columns=['Боль_внизу_живота','Тошнота','Количество_рвотных_позывов_за_день', 'Признаки_ОРВИ','Температура_тела', 'Сатурация','BLD','KET','LEU','GLU','NIT','URO','BIL','VC','PRO','PH','SG','Артериальное_давление_верхнее','Артериальное_давление_нижнее', 'Пульс', 'Глюкоза'])\n",
    "    return new_df\n",
    "alert_sample1 = AVG(1,1000)"
   ]
  },
  {
   "cell_type": "code",
   "execution_count": 6,
   "metadata": {},
   "outputs": [],
   "source": [
    "#patological values generation\n",
    "def PVG(trimester:int, n_samples:int):\n",
    "    new_data = []\n",
    "    for iter in range(n_samples):\n",
    "        sample = []\n",
    "        #боль внизу живота \n",
    "        sample.append(random.choices([0,1],[3,1])[0])\n",
    "        #тошнота\n",
    "        sample.append(random.randint(0,1))\n",
    "        #количество рвотных позывов за день\n",
    "        if (sample[1] == 1):\n",
    "            if (trimester == 1):\n",
    "                sample.append(random.randint(6,10))\n",
    "            if (trimester == 2):\n",
    "                sample.append(random.randint(4,7))\n",
    "            if (trimester == 3):\n",
    "                sample.append(random.randint(0,5))\n",
    "        else:\n",
    "            sample.append(0)\n",
    "        #признаки орви\n",
    "        sample.append(random.choices([0,1],[3,1])[0])\n",
    "        #температура тела, сатурация\n",
    "        if (sample[3] == 1):\n",
    "            sample.append(choices_for_range([1,5,3],354,362,369,399)/10)\n",
    "        else:\n",
    "            sample.append(random.randint(362,369)/10)\n",
    "        sample.append(choices_for_range([0.5,2,7],85,92,96,99))\n",
    "        #BLD\n",
    "        sample.append(random.choices([0,1,2,3],[3,3,1,0.5])[0])\n",
    "        #KET\n",
    "        sample.append(random.choices([0,1,2,3],[3,3,1,0.5])[0])\n",
    "        #LEU\n",
    "        if (trimester == 1):\n",
    "            sample.append(random.choices([0,1,2,3],[3,3,1,0.5])[0])\n",
    "        else:\n",
    "            sample.append(random.choices([0,1,2],[3,3,1])[0])\n",
    "        #GLU\n",
    "        if (trimester == 0 or trimester == 1):\n",
    "            sample.append(random.choices([0,1,2],[3,1,1])[0])\n",
    "        else:\n",
    "            sample.append(random.choices([0,1,2,3],[3,1,1,0.5])[0])\n",
    "        #NIT\n",
    "        sample.append(random.choices([0,1,2,3],[5,1,1,0.5])[0]) \n",
    "        #URO, BIL, VC\n",
    "        sample.append(random.randint(0,3))\n",
    "        for bilvc_iter in range(2):\n",
    "            sample.append(random.choices([0,1,2,3],[3,1,1,0.5])[0])\n",
    "        #PRO\n",
    "        if (trimester == 1):\n",
    "            sample.append(random.randint(0,2))\n",
    "        else:\n",
    "            sample.append(random.randint(0,3))\n",
    "        #PH\n",
    "        sample.append(random.choices([5,6,7,8],[3,3,3,1])[0])\n",
    "        #SG\n",
    "        sample.append(random.randint(1000,1035)/1000)\n",
    "        #АД верхнее\n",
    "        sample.append(choices_for_range([3,1,0.5],100,130,160,170))\n",
    "        #АД нижнее\n",
    "        if (sample[17] < 130):\n",
    "            sample.append(random.randint(55, 90))\n",
    "        else:\n",
    "            sample.append(random.randint(90,115))\n",
    "        #Пульс\n",
    "        if (trimester == 1):\n",
    "            sample.append(choices_for_range([0.5,3,1],45,60,80,100))\n",
    "        if (trimester == 2):\n",
    "            sample.append(choices_for_range([0.5,3,1],50,70,90,110))\n",
    "        if (trimester == 3):\n",
    "            sample.append(choices_for_range([0.5,3,1],50,70,100,120))\n",
    "        #Глюкоза\n",
    "        sample.append(choices_for_range([0.5,7,1],30,40,55,65)/10)\n",
    "        if (sample[-1] > 5.5 or sample[13] > 1): #корректировка значения PH по VC и глюкозе крови\n",
    "            sample[15] = random.randint(4,5)\n",
    "        new_data.append(sample)\n",
    "    new_df = pd.DataFrame(new_data, columns=['Боль_внизу_живота','Тошнота','Количество_рвотных_позывов_за_день', 'Признаки_ОРВИ','Температура_тела', 'Сатурация','BLD','KET','LEU','GLU','NIT','URO','BIL','VC','PRO','PH','SG','Артериальное_давление_верхнее','Артериальное_давление_нижнее', 'Пульс', 'Глюкоза'])\n",
    "    return new_df\n",
    "pathological_sample1 = PVG(1,1000)"
   ]
  },
  {
   "cell_type": "code",
   "execution_count": 7,
   "metadata": {},
   "outputs": [],
   "source": [
    "#train sample merging\n",
    "y_norm = pd.DataFrame(np.zeros(1000))\n",
    "y_alert = pd.DataFrame(np.ones(1000))\n",
    "y_pathological = pd.DataFrame(np.ones(1000)*2)\n",
    "y_train = pd.concat([y_norm,y_alert,y_pathological])\n",
    "y_train.columns = ['Класс']\n",
    "x_train = pd.concat([norm_sample1, alert_sample1, pathological_sample1], axis=0)\n",
    "train_sample = pd.concat([x_train,y_train],axis=1)\n",
    "#перемешивание\n",
    "train_sample = train_sample.sample(frac=1)\n",
    "#разделение\n",
    "y_train = train_sample['Класс']\n",
    "x_train = train_sample.drop('Класс', axis=1)"
   ]
  },
  {
   "cell_type": "code",
   "execution_count": 255,
   "metadata": {},
   "outputs": [
    {
     "data": {
      "image/png": "[encoded data removed]",
      "text/plain": [
       "<Figure size 640x480 with 1 Axes>"
      ]
     },
     "metadata": {},
     "output_type": "display_data"
    }
   ],
   "source": [
    "#visualization\n",
    "xpoints = []\n",
    "for ipx in range(0,len(x['URO'][0:41])):\n",
    "    if (ipx%2 == 0):\n",
    "        xpoints.append(ipx)\n",
    "\n",
    "plt.figure()\n",
    "plt.plot(range(0,len(x['Глюкоза'][0:41])), x['Глюкоза'][0:41], label='Нижнее')\n",
    "plt.plot(range(0,len(x['KET'][0:41])), x['KET'][0:41], label= \"Верхнее\")\n",
    "plt.plot(range(0,len(x['GLU'])), x['GLU'], label= 'GLU')\n",
    "plt.xlabel(\"Observation day\", fontsize=12, labelpad=None, loc=None)\n",
    "plt.xticks(xpoints)\n",
    "plt.ylabel(\"Normalized value\", fontsize=12, labelpad=None, loc=None)\n",
    "#plt.legend()\n",
    "plt.show()"
   ]
  },
  {
   "cell_type": "code",
   "execution_count": 20,
   "metadata": {},
   "outputs": [
    {
     "name": "stdout",
     "output_type": "stream",
     "text": [
      "[0. 0. 0. 0. 0. 0. 0. 0. 0. 0. 0. 0. 0. 0. 0. 0. 0. 0. 0. 0. 0. 0. 0. 0.\n",
      " 0. 0. 0. 0. 0. 0. 0. 0. 0. 0. 0. 0. 0. 0. 0. 0. 0. 0. 0. 0. 0. 0. 0. 0.\n",
      " 0. 0. 0. 0. 0. 0. 0. 0. 0. 0. 0. 0. 0. 0. 0. 0. 0. 0. 0. 0. 0. 0. 0. 0.\n",
      " 0. 0. 0. 0. 0. 0. 0. 0. 0. 0. 0. 0. 0. 0. 0. 0. 0. 0. 0. 0. 0. 0. 0. 0.\n",
      " 0. 0. 0. 0. 1. 1. 1. 1. 1. 1. 1. 1. 1. 1. 1. 1. 1. 1. 1. 1. 1. 1. 1. 1.\n",
      " 1. 1. 1. 1. 1. 1. 1. 1. 1. 1. 1. 1. 1. 1. 1. 1. 1. 1. 1. 1. 1. 1. 1. 1.\n",
      " 1. 1. 1. 1. 1. 1. 1. 1. 1. 1. 1. 1. 1. 1. 1. 1. 1. 1. 1. 1. 1. 1. 1. 1.\n",
      " 1. 1. 1. 1. 1. 1. 1. 1. 1. 1. 1. 1. 1. 1. 1. 1. 1. 1. 1. 1. 1. 1. 1. 1.\n",
      " 1. 1. 1. 1. 1. 1. 1. 1. 2. 2. 2. 2. 2. 2. 2. 2. 2. 2. 2. 2. 2. 2. 2. 2.\n",
      " 2. 2. 2. 2. 2. 2. 2. 2. 2. 2. 2. 2. 2. 2. 2. 2. 2. 2. 2. 2. 2. 2. 2. 2.\n",
      " 2. 2. 2. 2. 2. 2. 2. 2. 2. 2. 2. 2. 2. 2. 2. 2. 2. 2. 2. 2. 2. 2. 2. 2.\n",
      " 2. 2. 2. 2. 2. 2. 2. 2. 2. 2. 2. 2. 2. 2. 2. 2. 2. 2. 2. 2. 2. 2. 2. 2.\n",
      " 2. 2. 2. 2. 2. 2. 2. 2. 2. 2. 2. 2.]\n"
     ]
    }
   ],
   "source": [
    "norm_x_test = NVG(1,100)\n",
    "alert_x_test = AVG(1,100)\n",
    "pathological_x_test = PVG(1,100)\n",
    "x_test = pd.concat([norm_x_test,alert_x_test,pathological_x_test])\n",
    "\n",
    "norm_y_test = np.zeros(100)\n",
    "alert_y_test = np.ones(100)\n",
    "pathological_y_test = np.ones(100)*2\n",
    "y_test = np.hstack((norm_y_test, alert_y_test, pathological_y_test))\n",
    "print(y_test)"
   ]
  },
  {
   "cell_type": "code",
   "execution_count": 21,
   "metadata": {},
   "outputs": [
    {
     "name": "stdout",
     "output_type": "stream",
     "text": [
      "[0. 0. 0. 0. 0. 0. 0. 0. 0. 0. 0. 0. 0. 0. 0. 0. 0. 0. 0. 0. 0. 0. 0. 0.\n",
      " 0. 0. 0. 0. 0. 0. 0. 0. 0. 0. 0. 0. 0. 0. 0. 0. 0. 0. 0. 0. 0. 0. 0. 0.\n",
      " 0. 0. 0. 0. 0. 0. 0. 0. 0. 0. 0. 0. 0. 0. 0. 0. 0. 0. 0. 0. 0. 0. 0. 0.\n",
      " 0. 0. 0. 0. 0. 0. 0. 0. 0. 0. 0. 0. 0. 0. 0. 0. 0. 0. 0. 0. 0. 0. 0. 0.\n",
      " 0. 0. 0. 0. 0. 1. 1. 1. 1. 1. 1. 1. 0. 1. 1. 1. 1. 1. 1. 1. 1. 1. 1. 1.\n",
      " 1. 1. 1. 1. 1. 1. 1. 1. 1. 1. 1. 1. 1. 1. 1. 1. 1. 1. 1. 1. 1. 2. 1. 1.\n",
      " 1. 1. 1. 1. 1. 1. 1. 1. 1. 1. 1. 1. 1. 1. 1. 1. 1. 1. 1. 1. 1. 1. 1. 1.\n",
      " 1. 1. 1. 1. 1. 1. 1. 2. 1. 1. 1. 1. 2. 1. 1. 1. 1. 1. 1. 1. 1. 1. 1. 1.\n",
      " 1. 1. 1. 1. 1. 1. 1. 1. 2. 2. 2. 1. 2. 2. 2. 2. 2. 2. 2. 2. 2. 2. 2. 2.\n",
      " 2. 2. 2. 2. 2. 2. 2. 2. 2. 2. 2. 2. 2. 2. 2. 2. 2. 2. 2. 2. 2. 2. 2. 2.\n",
      " 2. 2. 2. 2. 2. 2. 2. 2. 2. 2. 2. 2. 2. 2. 2. 2. 2. 2. 2. 2. 2. 2. 2. 2.\n",
      " 2. 2. 1. 2. 2. 1. 2. 2. 2. 2. 2. 2. 2. 2. 2. 2. 2. 2. 2. 2. 2. 2. 2. 2.\n",
      " 2. 2. 2. 2. 2. 2. 2. 2. 2. 2. 2. 2.]\n",
      "292/300\n",
      "0.9733333333333334\n"
     ]
    }
   ],
   "source": [
    "#training\n",
    "model=tree.DecisionTreeClassifier(criterion=\"entropy\")\n",
    "model.fit(x_train,y_train)\n",
    "#tree.plot_tree(model)\n",
    "#x_test = df[0:-1]\n",
    "#y_test = x_test['Класс']\n",
    "\n",
    "#x_test = x_test.drop('Класс',axis=1)\n",
    "#x_test = x_test.drop('Неделя_беременности',axis=1)\n",
    "print(model.predict(x_test)) #.iloc[[0]]))\n",
    "counter = 0\n",
    "for iterator in range(len(x_test)):\n",
    "    if (model.predict(x_test)[iterator] == y_test[iterator]):\n",
    "        counter += 1\n",
    "accuracy = counter/len(x_test)\n",
    "print(f'{counter}/{len(x_test)}')\n",
    "print(accuracy)"
   ]
  },
  {
   "cell_type": "code",
   "execution_count": 329,
   "metadata": {},
   "outputs": [
    {
     "data": {
      "text/plain": [
       "['pregnant_classification_model.joblib']"
      ]
     },
     "execution_count": 329,
     "metadata": {},
     "output_type": "execute_result"
    }
   ],
   "source": [
    "#saving model\n",
    "dump(model, 'pregnant_classification_model.joblib')"
   ]
  },
  {
   "cell_type": "code",
   "execution_count": 286,
   "metadata": {},
   "outputs": [
    {
     "ename": "ValueError",
     "evalue": "The feature names should match those that were passed during fit.\nFeature names unseen at fit time:\n- Доп._Инфа\n- Триместр\n",
     "output_type": "error",
     "traceback": [
      "\u001b[1;31m---------------------------------------------------------------------------\u001b[0m",
      "\u001b[1;31mValueError\u001b[0m                                Traceback (most recent call last)",
      "Cell \u001b[1;32mIn[286], line 14\u001b[0m\n\u001b[0;32m     11\u001b[0m             x1[i][j] \u001b[38;5;241m=\u001b[39m x1[i][j]\u001b[38;5;241m.\u001b[39mreplace(\u001b[38;5;124m'\u001b[39m\u001b[38;5;124m,\u001b[39m\u001b[38;5;124m'\u001b[39m,\u001b[38;5;124m'\u001b[39m\u001b[38;5;124m.\u001b[39m\u001b[38;5;124m'\u001b[39m)\n\u001b[0;32m     12\u001b[0m     x1 \u001b[38;5;241m=\u001b[39m x1\u001b[38;5;241m.\u001b[39mastype({i: \u001b[38;5;28mfloat\u001b[39m})\n\u001b[1;32m---> 14\u001b[0m \u001b[38;5;28mprint\u001b[39m(\u001b[43mmodel\u001b[49m\u001b[38;5;241;43m.\u001b[39;49m\u001b[43mpredict\u001b[49m\u001b[43m(\u001b[49m\u001b[43mx1\u001b[49m\u001b[38;5;241;43m.\u001b[39;49m\u001b[43miloc\u001b[49m\u001b[43m[\u001b[49m\u001b[43m[\u001b[49m\u001b[38;5;241;43m0\u001b[39;49m\u001b[43m]\u001b[49m\u001b[43m]\u001b[49m\u001b[43m)\u001b[49m)\n",
      "File \u001b[1;32mc:\\Users\\infor\\AppData\\Local\\Programs\\Python\\Python313\\Lib\\site-packages\\sklearn\\tree\\_classes.py:530\u001b[0m, in \u001b[0;36mBaseDecisionTree.predict\u001b[1;34m(self, X, check_input)\u001b[0m\n\u001b[0;32m    507\u001b[0m \u001b[38;5;250m\u001b[39m\u001b[38;5;124;03m\"\"\"Predict class or regression value for X.\u001b[39;00m\n\u001b[0;32m    508\u001b[0m \n\u001b[0;32m    509\u001b[0m \u001b[38;5;124;03mFor a classification model, the predicted class for each sample in X is\u001b[39;00m\n\u001b[1;32m   (...)\u001b[0m\n\u001b[0;32m    527\u001b[0m \u001b[38;5;124;03m    The predicted classes, or the predict values.\u001b[39;00m\n\u001b[0;32m    528\u001b[0m \u001b[38;5;124;03m\"\"\"\u001b[39;00m\n\u001b[0;32m    529\u001b[0m check_is_fitted(\u001b[38;5;28mself\u001b[39m)\n\u001b[1;32m--> 530\u001b[0m X \u001b[38;5;241m=\u001b[39m \u001b[38;5;28;43mself\u001b[39;49m\u001b[38;5;241;43m.\u001b[39;49m\u001b[43m_validate_X_predict\u001b[49m\u001b[43m(\u001b[49m\u001b[43mX\u001b[49m\u001b[43m,\u001b[49m\u001b[43m \u001b[49m\u001b[43mcheck_input\u001b[49m\u001b[43m)\u001b[49m\n\u001b[0;32m    531\u001b[0m proba \u001b[38;5;241m=\u001b[39m \u001b[38;5;28mself\u001b[39m\u001b[38;5;241m.\u001b[39mtree_\u001b[38;5;241m.\u001b[39mpredict(X)\n\u001b[0;32m    532\u001b[0m n_samples \u001b[38;5;241m=\u001b[39m X\u001b[38;5;241m.\u001b[39mshape[\u001b[38;5;241m0\u001b[39m]\n",
      "File \u001b[1;32mc:\\Users\\infor\\AppData\\Local\\Programs\\Python\\Python313\\Lib\\site-packages\\sklearn\\tree\\_classes.py:489\u001b[0m, in \u001b[0;36mBaseDecisionTree._validate_X_predict\u001b[1;34m(self, X, check_input)\u001b[0m\n\u001b[0;32m    487\u001b[0m \u001b[38;5;28;01melse\u001b[39;00m:\n\u001b[0;32m    488\u001b[0m     ensure_all_finite \u001b[38;5;241m=\u001b[39m \u001b[38;5;28;01mTrue\u001b[39;00m\n\u001b[1;32m--> 489\u001b[0m X \u001b[38;5;241m=\u001b[39m \u001b[43mvalidate_data\u001b[49m\u001b[43m(\u001b[49m\n\u001b[0;32m    490\u001b[0m \u001b[43m    \u001b[49m\u001b[38;5;28;43mself\u001b[39;49m\u001b[43m,\u001b[49m\n\u001b[0;32m    491\u001b[0m \u001b[43m    \u001b[49m\u001b[43mX\u001b[49m\u001b[43m,\u001b[49m\n\u001b[0;32m    492\u001b[0m \u001b[43m    \u001b[49m\u001b[43mdtype\u001b[49m\u001b[38;5;241;43m=\u001b[39;49m\u001b[43mDTYPE\u001b[49m\u001b[43m,\u001b[49m\n\u001b[0;32m    493\u001b[0m \u001b[43m    \u001b[49m\u001b[43maccept_sparse\u001b[49m\u001b[38;5;241;43m=\u001b[39;49m\u001b[38;5;124;43m\"\u001b[39;49m\u001b[38;5;124;43mcsr\u001b[39;49m\u001b[38;5;124;43m\"\u001b[39;49m\u001b[43m,\u001b[49m\n\u001b[0;32m    494\u001b[0m \u001b[43m    \u001b[49m\u001b[43mreset\u001b[49m\u001b[38;5;241;43m=\u001b[39;49m\u001b[38;5;28;43;01mFalse\u001b[39;49;00m\u001b[43m,\u001b[49m\n\u001b[0;32m    495\u001b[0m \u001b[43m    \u001b[49m\u001b[43mensure_all_finite\u001b[49m\u001b[38;5;241;43m=\u001b[39;49m\u001b[43mensure_all_finite\u001b[49m\u001b[43m,\u001b[49m\n\u001b[0;32m    496\u001b[0m \u001b[43m\u001b[49m\u001b[43m)\u001b[49m\n\u001b[0;32m    497\u001b[0m \u001b[38;5;28;01mif\u001b[39;00m issparse(X) \u001b[38;5;129;01mand\u001b[39;00m (\n\u001b[0;32m    498\u001b[0m     X\u001b[38;5;241m.\u001b[39mindices\u001b[38;5;241m.\u001b[39mdtype \u001b[38;5;241m!=\u001b[39m np\u001b[38;5;241m.\u001b[39mintc \u001b[38;5;129;01mor\u001b[39;00m X\u001b[38;5;241m.\u001b[39mindptr\u001b[38;5;241m.\u001b[39mdtype \u001b[38;5;241m!=\u001b[39m np\u001b[38;5;241m.\u001b[39mintc\n\u001b[0;32m    499\u001b[0m ):\n\u001b[0;32m    500\u001b[0m     \u001b[38;5;28;01mraise\u001b[39;00m \u001b[38;5;167;01mValueError\u001b[39;00m(\u001b[38;5;124m\"\u001b[39m\u001b[38;5;124mNo support for np.int64 index based sparse matrices\u001b[39m\u001b[38;5;124m\"\u001b[39m)\n",
      "File \u001b[1;32mc:\\Users\\infor\\AppData\\Local\\Programs\\Python\\Python313\\Lib\\site-packages\\sklearn\\utils\\validation.py:2919\u001b[0m, in \u001b[0;36mvalidate_data\u001b[1;34m(_estimator, X, y, reset, validate_separately, skip_check_array, **check_params)\u001b[0m\n\u001b[0;32m   2835\u001b[0m \u001b[38;5;28;01mdef\u001b[39;00m\u001b[38;5;250m \u001b[39m\u001b[38;5;21mvalidate_data\u001b[39m(\n\u001b[0;32m   2836\u001b[0m     _estimator,\n\u001b[0;32m   2837\u001b[0m     \u001b[38;5;241m/\u001b[39m,\n\u001b[1;32m   (...)\u001b[0m\n\u001b[0;32m   2843\u001b[0m     \u001b[38;5;241m*\u001b[39m\u001b[38;5;241m*\u001b[39mcheck_params,\n\u001b[0;32m   2844\u001b[0m ):\n\u001b[0;32m   2845\u001b[0m \u001b[38;5;250m    \u001b[39m\u001b[38;5;124;03m\"\"\"Validate input data and set or check feature names and counts of the input.\u001b[39;00m\n\u001b[0;32m   2846\u001b[0m \n\u001b[0;32m   2847\u001b[0m \u001b[38;5;124;03m    This helper function should be used in an estimator that requires input\u001b[39;00m\n\u001b[1;32m   (...)\u001b[0m\n\u001b[0;32m   2917\u001b[0m \u001b[38;5;124;03m        validated.\u001b[39;00m\n\u001b[0;32m   2918\u001b[0m \u001b[38;5;124;03m    \"\"\"\u001b[39;00m\n\u001b[1;32m-> 2919\u001b[0m     \u001b[43m_check_feature_names\u001b[49m\u001b[43m(\u001b[49m\u001b[43m_estimator\u001b[49m\u001b[43m,\u001b[49m\u001b[43m \u001b[49m\u001b[43mX\u001b[49m\u001b[43m,\u001b[49m\u001b[43m \u001b[49m\u001b[43mreset\u001b[49m\u001b[38;5;241;43m=\u001b[39;49m\u001b[43mreset\u001b[49m\u001b[43m)\u001b[49m\n\u001b[0;32m   2920\u001b[0m     tags \u001b[38;5;241m=\u001b[39m get_tags(_estimator)\n\u001b[0;32m   2921\u001b[0m     \u001b[38;5;28;01mif\u001b[39;00m y \u001b[38;5;129;01mis\u001b[39;00m \u001b[38;5;28;01mNone\u001b[39;00m \u001b[38;5;129;01mand\u001b[39;00m tags\u001b[38;5;241m.\u001b[39mtarget_tags\u001b[38;5;241m.\u001b[39mrequired:\n",
      "File \u001b[1;32mc:\\Users\\infor\\AppData\\Local\\Programs\\Python\\Python313\\Lib\\site-packages\\sklearn\\utils\\validation.py:2777\u001b[0m, in \u001b[0;36m_check_feature_names\u001b[1;34m(estimator, X, reset)\u001b[0m\n\u001b[0;32m   2774\u001b[0m \u001b[38;5;28;01mif\u001b[39;00m \u001b[38;5;129;01mnot\u001b[39;00m missing_names \u001b[38;5;129;01mand\u001b[39;00m \u001b[38;5;129;01mnot\u001b[39;00m unexpected_names:\n\u001b[0;32m   2775\u001b[0m     message \u001b[38;5;241m+\u001b[39m\u001b[38;5;241m=\u001b[39m \u001b[38;5;124m\"\u001b[39m\u001b[38;5;124mFeature names must be in the same order as they were in fit.\u001b[39m\u001b[38;5;130;01m\\n\u001b[39;00m\u001b[38;5;124m\"\u001b[39m\n\u001b[1;32m-> 2777\u001b[0m \u001b[38;5;28;01mraise\u001b[39;00m \u001b[38;5;167;01mValueError\u001b[39;00m(message)\n",
      "\u001b[1;31mValueError\u001b[0m: The feature names should match those that were passed during fit.\nFeature names unseen at fit time:\n- Доп._Инфа\n- Триместр\n"
     ]
    }
   ],
   "source": [
    "x_test = pd.read_csv('pregnant1.csv', sep=';')\n",
    "sorted_x_test = x_test.sort_values(by=['Класс'], ascending=True)\n",
    "x1 = sorted_x_test.copy(deep=True)\n",
    "x1 = x1.drop(columns=['Класс'])\n",
    "x1 = x1.drop(columns=['Неделя_беременности'])\n",
    "y1 = sorted_x_test.copy(deep=True)\n",
    "y1 = y1['Класс']\n",
    "for i in ['Глюкоза','URO','BLD','BIL','KET','LEU','PRO','NIT','SG','VC']:\n",
    "    for j in range(len(x1[i])):\n",
    "        if (',' in x1[i][j]):\n",
    "            x1[i][j] = x1[i][j].replace(',','.')\n",
    "    x1 = x1.astype({i: float})\n",
    "\n",
    "print(model.predict(x1.iloc[[0]]))"
   ]
  },
  {
   "cell_type": "code",
   "execution_count": 6,
   "metadata": {},
   "outputs": [
    {
     "name": "stdout",
     "output_type": "stream",
     "text": [
      "[0]\n"
     ]
    },
    {
     "data": {
      "text/plain": [
       "array([[22,  0,  0],\n",
       "       [ 0, 15,  0],\n",
       "       [ 0,  0,  5]])"
      ]
     },
     "execution_count": 6,
     "metadata": {},
     "output_type": "execute_result"
    }
   ],
   "source": [
    "y_pred = []\n",
    "for k in range(len(x)):\n",
    "    pred = int(model.predict(x.iloc[[k]]))\n",
    "    y_pred.append(pred)\n",
    "print(model.predict(x.iloc[[3]]))\n",
    "metrics.classification_report(y, y_pred)\n",
    "metrics.confusion_matrix(y, y_pred)"
   ]
  }
 ],
 "metadata": {
  "kernelspec": {
   "display_name": "Python 3",
   "language": "python",
   "name": "python3"
  },
  "language_info": {
   "codemirror_mode": {
    "name": "ipython",
    "version": 3
   },
   "file_extension": ".py",
   "mimetype": "text/x-python",
   "name": "python",
   "nbconvert_exporter": "python",
   "pygments_lexer": "ipython3",
   "version": "3.13.2"
  }
 },
 "nbformat": 4,
 "nbformat_minor": 2
}
